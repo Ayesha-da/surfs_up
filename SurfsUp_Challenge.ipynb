{
 "cells": [
  {
   "cell_type": "code",
   "execution_count": 2,
   "metadata": {},
   "outputs": [],
   "source": [
    "# Dependencies\n",
    "import numpy as np\n",
    "import datetime as dt\n",
    "import pandas as pd\n",
    "# Python SQL toolkit and Object Relational Mapper\n",
    "import sqlalchemy\n",
    "from sqlalchemy.ext.automap import automap_base\n",
    "from sqlalchemy.orm import Session\n",
    "from sqlalchemy import create_engine, func"
   ]
  },
  {
   "cell_type": "code",
   "execution_count": 3,
   "metadata": {},
   "outputs": [],
   "source": [
    "engine = create_engine(\"sqlite:///hawaii.sqlite\")\n",
    "\n",
    "# reflect an existing database into a new model\n",
    "Base = automap_base()\n",
    "# reflect the tables\n",
    "Base.prepare(engine, reflect=True)\n",
    "\n",
    "# Save references to each table\n",
    "Measurement = Base.classes.measurement\n",
    "Station = Base.classes.station"
   ]
  },
  {
   "cell_type": "code",
   "execution_count": 4,
   "metadata": {},
   "outputs": [],
   "source": [
    "# Create our session (link) from Python to the DB\n",
    "session = Session(engine)"
   ]
  },
  {
   "cell_type": "markdown",
   "metadata": {},
   "source": [
    "## D1: Determine the Summary Statistics for June"
   ]
  },
  {
   "cell_type": "code",
   "execution_count": 48,
   "metadata": {},
   "outputs": [
    {
     "name": "stdout",
     "output_type": "stream",
     "text": [
      "('2010-06-01', 78.0)\n",
      "('2010-06-02', 76.0)\n",
      "('2010-06-03', 78.0)\n",
      "('2010-06-04', 76.0)\n",
      "('2010-06-05', 77.0)\n",
      "('2010-06-06', 78.0)\n",
      "('2010-06-07', 77.0)\n",
      "('2010-06-08', 78.0)\n",
      "('2010-06-09', 78.0)\n",
      "('2010-06-10', 79.0)\n",
      "('2010-06-11', 78.0)\n",
      "('2010-06-12', 78.0)\n",
      "('2010-06-13', 78.0)\n",
      "('2010-06-14', 77.0)\n",
      "('2010-06-15', 78.0)\n",
      "('2010-06-16', 78.0)\n",
      "('2010-06-17', 77.0)\n",
      "('2010-06-18', 77.0)\n",
      "('2010-06-19', 82.0)\n",
      "('2010-06-20', 78.0)\n"
     ]
    }
   ],
   "source": [
    "# 1. Import the sqlalchemy extract function.\n",
    "from sqlalchemy import extract\n",
    "# 2. Write a query that filters the Measurement table to retrieve the temperatures for the month of June. \n",
    "for row in session.query(Measurement.date, Measurement.tobs).filter(extract('month',Measurement.date)==6).limit(20):\n",
    "    print(row)"
   ]
  },
  {
   "cell_type": "code",
   "execution_count": 35,
   "metadata": {},
   "outputs": [],
   "source": [
    "#  3. Convert the June temperatures to a list.\n",
    "results_june = session.query(Measurement.date, Measurement.tobs).filter(extract('month',Measurement.date)==6).all()"
   ]
  },
  {
   "cell_type": "code",
   "execution_count": 36,
   "metadata": {},
   "outputs": [],
   "source": [
    "# 4. Create a DataFrame from the list of temperatures for the month of June. \n",
    "june_df = pd.DataFrame(results_june, columns=['date','temperature'])\n",
    "june_df = june_df.set_axis(['date',\"June Temps\"], axis=1)\n",
    "june_df.set_index(june_df['date'], inplace=True)"
   ]
  },
  {
   "cell_type": "code",
   "execution_count": 37,
   "metadata": {},
   "outputs": [
    {
     "data": {
      "text/html": [
       "<div>\n",
       "<style scoped>\n",
       "    .dataframe tbody tr th:only-of-type {\n",
       "        vertical-align: middle;\n",
       "    }\n",
       "\n",
       "    .dataframe tbody tr th {\n",
       "        vertical-align: top;\n",
       "    }\n",
       "\n",
       "    .dataframe thead th {\n",
       "        text-align: right;\n",
       "    }\n",
       "</style>\n",
       "<table border=\"1\" class=\"dataframe\">\n",
       "  <thead>\n",
       "    <tr style=\"text-align: right;\">\n",
       "      <th></th>\n",
       "      <th>June Temps</th>\n",
       "    </tr>\n",
       "  </thead>\n",
       "  <tbody>\n",
       "    <tr>\n",
       "      <th>count</th>\n",
       "      <td>1700.000000</td>\n",
       "    </tr>\n",
       "    <tr>\n",
       "      <th>mean</th>\n",
       "      <td>74.944118</td>\n",
       "    </tr>\n",
       "    <tr>\n",
       "      <th>std</th>\n",
       "      <td>3.257417</td>\n",
       "    </tr>\n",
       "    <tr>\n",
       "      <th>min</th>\n",
       "      <td>64.000000</td>\n",
       "    </tr>\n",
       "    <tr>\n",
       "      <th>25%</th>\n",
       "      <td>73.000000</td>\n",
       "    </tr>\n",
       "    <tr>\n",
       "      <th>50%</th>\n",
       "      <td>75.000000</td>\n",
       "    </tr>\n",
       "    <tr>\n",
       "      <th>75%</th>\n",
       "      <td>77.000000</td>\n",
       "    </tr>\n",
       "    <tr>\n",
       "      <th>max</th>\n",
       "      <td>85.000000</td>\n",
       "    </tr>\n",
       "  </tbody>\n",
       "</table>\n",
       "</div>"
      ],
      "text/plain": [
       "        June Temps\n",
       "count  1700.000000\n",
       "mean     74.944118\n",
       "std       3.257417\n",
       "min      64.000000\n",
       "25%      73.000000\n",
       "50%      75.000000\n",
       "75%      77.000000\n",
       "max      85.000000"
      ]
     },
     "execution_count": 37,
     "metadata": {},
     "output_type": "execute_result"
    }
   ],
   "source": [
    "# 5. Calculate and print out the summary statistics for the June temperature DataFrame.\n",
    "june_df.describe()"
   ]
  },
  {
   "cell_type": "markdown",
   "metadata": {},
   "source": [
    "## D2: Determine the Summary Statistics for December"
   ]
  },
  {
   "cell_type": "code",
   "execution_count": 39,
   "metadata": {},
   "outputs": [
    {
     "name": "stdout",
     "output_type": "stream",
     "text": [
      "('2010-12-01', 76.0)\n",
      "('2010-12-03', 74.0)\n",
      "('2010-12-04', 74.0)\n",
      "('2010-12-06', 64.0)\n",
      "('2010-12-07', 64.0)\n",
      "('2010-12-08', 67.0)\n",
      "('2010-12-09', 77.0)\n",
      "('2010-12-10', 66.0)\n",
      "('2010-12-11', 69.0)\n",
      "('2010-12-12', 68.0)\n"
     ]
    }
   ],
   "source": [
    "# 6. Write a query that filters the Measurement table to retrieve the temperatures for the month of December.\n",
    "for row in session.query(Measurement.date, Measurement.tobs).filter(extract('month',Measurement.date)==12).limit(10):\n",
    "    print(row)"
   ]
  },
  {
   "cell_type": "code",
   "execution_count": 11,
   "metadata": {},
   "outputs": [],
   "source": [
    "# 7. Convert the December temperatures to a list.\n",
    "results_december = session.query(Measurement.date, Measurement.tobs).filter(extract('month',Measurement.date)==12).all()"
   ]
  },
  {
   "cell_type": "code",
   "execution_count": 12,
   "metadata": {},
   "outputs": [],
   "source": [
    "# 8. Create a DataFrame from the list of temperatures for the month of December. \n",
    "december_df = pd.DataFrame(results_december, columns=['date','temperature'])\n",
    "december_df = december_df.set_axis(['date',\"December Temps\"], axis=1)\n",
    "december_df.set_index(december_df['date'], inplace=True)"
   ]
  },
  {
   "cell_type": "code",
   "execution_count": 13,
   "metadata": {},
   "outputs": [
    {
     "data": {
      "text/html": [
       "<div>\n",
       "<style scoped>\n",
       "    .dataframe tbody tr th:only-of-type {\n",
       "        vertical-align: middle;\n",
       "    }\n",
       "\n",
       "    .dataframe tbody tr th {\n",
       "        vertical-align: top;\n",
       "    }\n",
       "\n",
       "    .dataframe thead th {\n",
       "        text-align: right;\n",
       "    }\n",
       "</style>\n",
       "<table border=\"1\" class=\"dataframe\">\n",
       "  <thead>\n",
       "    <tr style=\"text-align: right;\">\n",
       "      <th></th>\n",
       "      <th>December Temps</th>\n",
       "    </tr>\n",
       "  </thead>\n",
       "  <tbody>\n",
       "    <tr>\n",
       "      <th>count</th>\n",
       "      <td>1517.000000</td>\n",
       "    </tr>\n",
       "    <tr>\n",
       "      <th>mean</th>\n",
       "      <td>71.041529</td>\n",
       "    </tr>\n",
       "    <tr>\n",
       "      <th>std</th>\n",
       "      <td>3.745920</td>\n",
       "    </tr>\n",
       "    <tr>\n",
       "      <th>min</th>\n",
       "      <td>56.000000</td>\n",
       "    </tr>\n",
       "    <tr>\n",
       "      <th>25%</th>\n",
       "      <td>69.000000</td>\n",
       "    </tr>\n",
       "    <tr>\n",
       "      <th>50%</th>\n",
       "      <td>71.000000</td>\n",
       "    </tr>\n",
       "    <tr>\n",
       "      <th>75%</th>\n",
       "      <td>74.000000</td>\n",
       "    </tr>\n",
       "    <tr>\n",
       "      <th>max</th>\n",
       "      <td>83.000000</td>\n",
       "    </tr>\n",
       "  </tbody>\n",
       "</table>\n",
       "</div>"
      ],
      "text/plain": [
       "       December Temps\n",
       "count     1517.000000\n",
       "mean        71.041529\n",
       "std          3.745920\n",
       "min         56.000000\n",
       "25%         69.000000\n",
       "50%         71.000000\n",
       "75%         74.000000\n",
       "max         83.000000"
      ]
     },
     "execution_count": 13,
     "metadata": {},
     "output_type": "execute_result"
    }
   ],
   "source": [
    "# 9. Calculate and print out the summary statistics for the Decemeber temperature DataFrame.\n",
    "december_df.describe()"
   ]
  },
  {
   "cell_type": "code",
   "execution_count": null,
   "metadata": {},
   "outputs": [],
   "source": [
    "# Additional Queries"
   ]
  },
  {
   "cell_type": "code",
   "execution_count": 52,
   "metadata": {},
   "outputs": [
    {
     "name": "stdout",
     "output_type": "stream",
     "text": [
      "('2010-06-01', 0.0, 'WAIKIKI 717.2, HI US')\n",
      "('2010-06-01', 0.0, 'KANEOHE 838.1, HI US')\n",
      "('2010-06-01', 0.0, 'KUALOA RANCH HEADQUARTERS 886.9, HI US')\n",
      "('2010-06-01', 0.0, 'PEARL CITY, HI US')\n",
      "('2010-06-01', 0.0, 'UPPER WAHIAWA 874.3, HI US')\n",
      "('2010-06-01', 0.0, 'WAIMANALO EXPERIMENTAL FARM, HI US')\n",
      "('2010-06-01', 0.0, 'WAIHEE 837.5, HI US')\n",
      "('2010-06-01', 0.0, 'HONOLULU OBSERVATORY 702.2, HI US')\n",
      "('2010-06-01', 0.0, 'MANOA LYON ARBO 785.2, HI US')\n",
      "('2010-06-02', 0.01, 'WAIKIKI 717.2, HI US')\n"
     ]
    }
   ],
   "source": [
    "# June percipitation\n",
    "# 2. Write a query that filters the Measurement table to retrieve the percipitation for the month of June. \n",
    "for row in session.query(Measurement.date, Measurement.prcp,Station.name).filter(extract('month',Measurement.date)==6).limit(10):\n",
    "    print(row)"
   ]
  },
  {
   "cell_type": "code",
   "execution_count": 31,
   "metadata": {},
   "outputs": [
    {
     "data": {
      "image/png": "[encoded data removed]",
      "text/plain": [
       "<Figure size 432x288 with 1 Axes>"
      ]
     },
     "metadata": {
      "needs_background": "light"
     },
     "output_type": "display_data"
    }
   ],
   "source": [
    "results_june_prcp = session.query(Measurement.date, Measurement.prcp).filter(extract('month',Measurement.date)==6).all() \n",
    "june_df_prcp = pd.DataFrame(results_june_prcp, columns=['date','percipitation'])\n",
    "june_df_prcp = june_df_prcp.set_axis(['date',\"June Percipitation\"], axis=1)\n",
    "june_df_prcp.set_index(june_df_prcp['date'], inplace=True)\n",
    "df = june_df_prcp.sort_index()\n",
    "import matplotlib.pyplot as plt\n",
    "df.plot()\n",
    "plt.xticks(rotation='vertical')\n",
    "plt.show()"
   ]
  },
  {
   "cell_type": "code",
   "execution_count": 69,
   "metadata": {},
   "outputs": [
    {
     "name": "stdout",
     "output_type": "stream",
     "text": [
      "('2010-12-01', 0.04, 'WAIKIKI 717.2, HI US')\n",
      "('2010-12-01', 0.04, 'KANEOHE 838.1, HI US')\n",
      "('2010-12-01', 0.04, 'KUALOA RANCH HEADQUARTERS 886.9, HI US')\n",
      "('2010-12-01', 0.04, 'PEARL CITY, HI US')\n",
      "('2010-12-01', 0.04, 'UPPER WAHIAWA 874.3, HI US')\n",
      "('2010-12-01', 0.04, 'WAIMANALO EXPERIMENTAL FARM, HI US')\n",
      "('2010-12-01', 0.04, 'WAIHEE 837.5, HI US')\n",
      "('2010-12-01', 0.04, 'HONOLULU OBSERVATORY 702.2, HI US')\n",
      "('2010-12-01', 0.04, 'MANOA LYON ARBO 785.2, HI US')\n",
      "('2010-12-03', 0.0, 'WAIKIKI 717.2, HI US')\n"
     ]
    }
   ],
   "source": [
    "# December percipitation\n",
    "# 6. Write a query that filters the Measurement table to retrieve the percipitation for the month of December.\n",
    "for row in session.query(Measurement.date, Measurement.prcp,Station.name).filter(extract('month',Measurement.date)==12).limit(10):\n",
    "    print(row)"
   ]
  },
  {
   "cell_type": "code",
   "execution_count": 43,
   "metadata": {},
   "outputs": [
    {
     "data": {
      "image/png": "[encoded data removed]",
      "text/plain": [
       "<Figure size 432x288 with 1 Axes>"
      ]
     },
     "metadata": {
      "needs_background": "light"
     },
     "output_type": "display_data"
    }
   ],
   "source": [
    "results_december_prcp = session.query(Measurement.date, Measurement.prcp).filter(extract('month',Measurement.date)==12).all() \n",
    "december_df_prcp = pd.DataFrame(results_december_prcp, columns=['date','percipitation'])\n",
    "december_df_prcp = december_df_prcp.set_axis(['date',\"December percipitation\"], axis=1)\n",
    "december_df_prcp.set_index(december_df_prcp['date'], inplace=True)\n",
    "df = december_df_prcp.sort_index()\n",
    "df.plot()\n",
    "plt.xticks(rotation='vertical')\n",
    "plt.show()"
   ]
  },
  {
   "cell_type": "code",
   "execution_count": 70,
   "metadata": {},
   "outputs": [
    {
     "data": {
      "image/png": "[encoded data removed]",
      "text/plain": [
       "<Figure size 432x288 with 1 Axes>"
      ]
     },
     "metadata": {
      "needs_background": "light"
     },
     "output_type": "display_data"
    }
   ],
   "source": [
    "results_station_prcp = session.query(Measurement.date, Measurement.prcp).filter(Station.name=='WAIKIKI 717.2, HI US').all() \n",
    "station_df_prcp = pd.DataFrame(results_station_prcp, columns=['date','percipitation'])\n",
    "station_df_prcp = station_df_prcp.set_axis(['date',\"Station\"], axis=1)\n",
    "station_df_prcp.set_index(station_df_prcp['date'], inplace=True)\n",
    "df = station_df_prcp.sort_index()\n",
    "df.plot()\n",
    "plt.xticks(rotation='vertical')\n",
    "plt.show()"
   ]
  },
  {
   "cell_type": "code",
   "execution_count": null,
   "metadata": {},
   "outputs": [],
   "source": []
  }
 ],
 "metadata": {
  "kernelspec": {
   "display_name": "PythonData",
   "language": "python",
   "name": "pythondata"
  },
  "language_info": {
   "codemirror_mode": {
    "name": "ipython",
    "version": 3
   },
   "file_extension": ".py",
   "mimetype": "text/x-python",
   "name": "python",
   "nbconvert_exporter": "python",
   "pygments_lexer": "ipython3",
   "version": "3.7.10"
  }
 },
 "nbformat": 4,
 "nbformat_minor": 2
}
